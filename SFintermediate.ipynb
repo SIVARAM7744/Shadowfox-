{
  "nbformat": 4,
  "nbformat_minor": 0,
  "metadata": {
    "colab": {
      "provenance": [],
      "authorship_tag": "ABX9TyMb7eRlvDuaRbja2NbagrYt",
      "include_colab_link": true
    },
    "kernelspec": {
      "name": "python3",
      "display_name": "Python 3"
    },
    "language_info": {
      "name": "python"
    }
  },
  "cells": [
    {
      "cell_type": "markdown",
      "metadata": {
        "id": "view-in-github",
        "colab_type": "text"
      },
      "source": [
        "<a href=\"https://colab.research.google.com/github/SIVARAM7744/Shadowfox-/blob/main/SFintermediate.ipynb\" target=\"_parent\"><img src=\"https://colab.research.google.com/assets/colab-badge.svg\" alt=\"Open In Colab\"/></a>"
      ]
    },
    {
      "cell_type": "markdown",
      "source": [
        "**ShadowFox intermediate project - Loan approval prediction**"
      ],
      "metadata": {
        "id": "cmg8eqKFbNxW"
      }
    },
    {
      "cell_type": "code",
      "source": [
        "import pandas as pd\n",
        "from sklearn.model_selection import train_test_split\n",
        "from sklearn.preprocessing import LabelEncoder\n",
        "from sklearn.ensemble import RandomForestClassifier\n",
        "import joblib\n",
        "from google.colab import drive"
      ],
      "metadata": {
        "id": "1L5o743QbbBM"
      },
      "execution_count": 1,
      "outputs": []
    },
    {
      "cell_type": "code",
      "source": [
        "drive.mount('/content/drive')\n"
      ],
      "metadata": {
        "colab": {
          "base_uri": "https://localhost:8080/"
        },
        "id": "vxQ5bB9fcQ7y",
        "outputId": "5a1f99d9-e73e-44b2-d509-491f37478cf1"
      },
      "execution_count": 2,
      "outputs": [
        {
          "output_type": "stream",
          "name": "stdout",
          "text": [
            "Mounted at /content/drive\n"
          ]
        }
      ]
    },
    {
      "cell_type": "code",
      "source": [
        "loanexist = pd.read_csv('/content/drive/MyDrive/Shadowfox/intermediate/loan_prediction.csv')\n",
        "columninsheet = [\n",
        "    'Gender', 'Married', 'Dependents', 'Education', 'Self_Employed',\n",
        "    'ApplicantIncome', 'CoapplicantIncome', 'LoanAmount', 'Loan_Amount_Term', 'Credit_History', 'Property_Area', 'Loan_Status'\n",
        "]\n"
      ],
      "metadata": {
        "id": "g5_MZ-IQcZVO"
      },
      "execution_count": 4,
      "outputs": []
    },
    {
      "cell_type": "code",
      "source": [
        "loanexist = loanexist[columninsheet]\n",
        "for col in ['Gender', 'Married', 'Dependents', 'Education', 'Self_Employed', 'Property_Area']:\n",
        "    loanexist[col].fillna(loanexist[col].mode()[0], inplace=True)\n",
        "\n",
        "loanexist.fillna(loanexist.mean(numeric_only=True), inplace=True)"
      ],
      "metadata": {
        "colab": {
          "base_uri": "https://localhost:8080/"
        },
        "id": "m6Zb3mzXc4np",
        "outputId": "015c1e97-19d6-4195-8e6e-ff17256d9123"
      },
      "execution_count": 5,
      "outputs": [
        {
          "output_type": "stream",
          "name": "stderr",
          "text": [
            "<ipython-input-5-48896f2e5d6f>:3: SettingWithCopyWarning: \n",
            "A value is trying to be set on a copy of a slice from a DataFrame\n",
            "\n",
            "See the caveats in the documentation: https://pandas.pydata.org/pandas-docs/stable/user_guide/indexing.html#returning-a-view-versus-a-copy\n",
            "  loanexist[col].fillna(loanexist[col].mode()[0], inplace=True)\n",
            "<ipython-input-5-48896f2e5d6f>:5: SettingWithCopyWarning: \n",
            "A value is trying to be set on a copy of a slice from a DataFrame\n",
            "\n",
            "See the caveats in the documentation: https://pandas.pydata.org/pandas-docs/stable/user_guide/indexing.html#returning-a-view-versus-a-copy\n",
            "  loanexist.fillna(loanexist.mean(numeric_only=True), inplace=True)\n"
          ]
        }
      ]
    },
    {
      "cell_type": "code",
      "source": [
        "labellists = {}\n",
        "for feature in ['Gender', 'Married', 'Dependents', 'Education', 'Self_Employed', 'Property_Area']:\n",
        "    encoder = LabelEncoder()\n",
        "    loanexist[feature] = encoder.fit_transform(loanexist[feature])\n",
        "    labellists[feature] = encoder\n"
      ],
      "metadata": {
        "id": "uJLYan1odQh6"
      },
      "execution_count": 6,
      "outputs": []
    },
    {
      "cell_type": "code",
      "source": [
        "X = loanexist.drop('Loan_Status', axis=1)\n",
        "y = loanexist['Loan_Status']\n",
        "\n",
        "X_train, X_test, y_train, y_test = train_test_split(X, y, test_size=0.2, random_state=0)\n",
        "\n",
        "model = RandomForestClassifier()\n",
        "model.fit(X_train, y_train)\n",
        "\n",
        "joblib.dump(model, '/content/drive/MyDrive/Shadowfox/intermediate/loan_model.pkl')\n",
        "joblib.dump(labellists, '/content/drive/MyDrive/Shadowfox/intermediate/labellists.pkl')\n",
        "\n",
        "print(\"model training is completed and saved\")"
      ],
      "metadata": {
        "colab": {
          "base_uri": "https://localhost:8080/"
        },
        "id": "LQoDNLejdUjH",
        "outputId": "15ff3176-9f2d-4f7e-abd3-ea9a173be5c9"
      },
      "execution_count": 7,
      "outputs": [
        {
          "output_type": "stream",
          "name": "stdout",
          "text": [
            "model training is completed and saved\n"
          ]
        }
      ]
    },
    {
      "cell_type": "code",
      "source": [
        "import pandas as pd\n",
        "import joblib\n",
        "from google.colab import drive"
      ],
      "metadata": {
        "id": "EzdaSiF4e8yy"
      },
      "execution_count": 10,
      "outputs": []
    },
    {
      "cell_type": "code",
      "source": [
        "drive.mount('/content/drive')\n"
      ],
      "metadata": {
        "colab": {
          "base_uri": "https://localhost:8080/"
        },
        "id": "Rf6PPEpwfRz6",
        "outputId": "8e9d8255-b7b2-4161-ccac-38d045153b90"
      },
      "execution_count": 11,
      "outputs": [
        {
          "output_type": "stream",
          "name": "stdout",
          "text": [
            "Drive already mounted at /content/drive; to attempt to forcibly remount, call drive.mount(\"/content/drive\", force_remount=True).\n"
          ]
        }
      ]
    },
    {
      "cell_type": "code",
      "source": [
        "pathh = '/content/drive/MyDrive/Shadowfox/intermediate/loan_model.pkl'\n",
        "enc_path = '/content/drive/MyDrive/Shadowfox/intermediate/labellists.pkl'"
      ],
      "metadata": {
        "id": "f9usKng1hRqV"
      },
      "execution_count": 18,
      "outputs": []
    },
    {
      "cell_type": "code",
      "source": [
        "model = joblib.load(pathh)\n",
        "labellists = joblib.load(enc_path)"
      ],
      "metadata": {
        "id": "fKvLerJZhWkV"
      },
      "execution_count": 19,
      "outputs": []
    },
    {
      "cell_type": "code",
      "source": [
        "newloan = pd.read_csv('/content/drive/MyDrive/Shadowfox/intermediate/loan_prediction_check1.csv')\n",
        "oridata = newloan.copy()\n",
        "colavail = [\n",
        "    'Gender', 'Married', 'Dependents', 'Education', 'Self_Employed',\n",
        "    'ApplicantIncome', 'CoapplicantIncome', 'LoanAmount', 'Loan_Amount_Term', 'Credit_History', 'Property_Area'\n",
        "]\n",
        "newloan = newloan[colavail]"
      ],
      "metadata": {
        "id": "-ieTUdDmhZyH"
      },
      "execution_count": 21,
      "outputs": []
    },
    {
      "cell_type": "code",
      "source": [
        "for col in ['Gender', 'Married', 'Dependents', 'Education', 'Self_Employed', 'Property_Area']:\n",
        "    newloan[col].fillna(newloan[col].mode()[0], inplace=True)\n",
        "newloan.fillna(newloan.mean(numeric_only=True), inplace=True)"
      ],
      "metadata": {
        "id": "mZob-BAGhg7U"
      },
      "execution_count": 22,
      "outputs": []
    },
    {
      "cell_type": "code",
      "source": [
        "for feature in ['Gender', 'Married', 'Dependents', 'Education', 'Self_Employed', 'Property_Area']:\n",
        "    encoder = labellists[feature]\n",
        "    unseen_labels = set(newloan[feature]) - set(encoder.classes_)\n",
        "    if unseen_labels:\n",
        "        newloan[feature] = newloan[feature].apply(lambda x: x if x in encoder.classes_ else encoder.classes_[0])\n",
        "    newloan[feature] = encoder.transform(newloan[feature])\n",
        "preds = model.predict(newloan)\n",
        "oridata['Predicted_Loan_Status'] = preds\n",
        "print(\"Predictions:\")\n",
        "print(oridata.head())"
      ],
      "metadata": {
        "colab": {
          "base_uri": "https://localhost:8080/"
        },
        "id": "cxuhedzFhobO",
        "outputId": "d5b1dd1f-a5f3-46eb-f466-278c64c1274e"
      },
      "execution_count": 23,
      "outputs": [
        {
          "output_type": "stream",
          "name": "stdout",
          "text": [
            "Predictions:\n",
            "    Loan_ID  Gender Married  Dependents     Education Self_Employed  \\\n",
            "0  LP002949  Female      No           3      Graduate           NaN   \n",
            "1  LP002950    Male     Yes           0  Not Graduate           NaN   \n",
            "2  LP002953    Male     Yes           3      Graduate            No   \n",
            "3  LP002958    Male      No           0      Graduate            No   \n",
            "4  LP002959  Female     Yes           1      Graduate            No   \n",
            "\n",
            "   ApplicantIncome  CoapplicantIncome  LoanAmount  Loan_Amount_Term  \\\n",
            "0              416              41667       350.0               180   \n",
            "1             2894               2792       155.0               360   \n",
            "2             5703                  0       128.0               360   \n",
            "3             3676               4301       172.0               360   \n",
            "4            12000                  0       496.0               360   \n",
            "\n",
            "   Credit_History Property_Area Predicted_Loan_Status  \n",
            "0             NaN         Urban                     N  \n",
            "1             1.0         Rural                     Y  \n",
            "2             1.0         Urban                     Y  \n",
            "3             1.0         Rural                     Y  \n",
            "4             1.0     Semiurban                     Y  \n"
          ]
        }
      ]
    }
  ]
}